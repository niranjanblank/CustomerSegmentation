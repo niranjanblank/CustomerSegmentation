{
 "cells": [
  {
   "cell_type": "code",
   "execution_count": 2,
   "metadata": {
    "collapsed": true,
    "ExecuteTime": {
     "end_time": "2023-06-05T08:17:03.358169100Z",
     "start_time": "2023-06-05T08:17:03.354788400Z"
    }
   },
   "outputs": [],
   "source": [
    "import pandas as pd\n",
    "import matplotlib.pyplot as plt"
   ]
  },
  {
   "cell_type": "markdown",
   "source": [
    "### Dataset Description"
   ],
   "metadata": {
    "collapsed": false
   }
  },
  {
   "cell_type": "code",
   "execution_count": 3,
   "outputs": [],
   "source": [
    "\n",
    "#reading the customer data\n",
    "customer_data = pd.read_csv(\"data/Train.csv\")"
   ],
   "metadata": {
    "collapsed": false,
    "ExecuteTime": {
     "end_time": "2023-06-05T08:17:05.199120800Z",
     "start_time": "2023-06-05T08:17:05.190028600Z"
    }
   }
  },
  {
   "cell_type": "code",
   "execution_count": 4,
   "outputs": [
    {
     "data": {
      "text/plain": "       ID  Gender Ever_Married  Age Graduated     Profession  Work_Experience  \\\n0  462809    Male           No   22        No     Healthcare              1.0   \n1  462643  Female          Yes   38       Yes       Engineer              NaN   \n2  466315  Female          Yes   67       Yes       Engineer              1.0   \n3  461735    Male          Yes   67       Yes         Lawyer              0.0   \n4  462669  Female          Yes   40       Yes  Entertainment              NaN   \n\n  Spending_Score  Family_Size  Var_1 Segmentation  \n0            Low          4.0  Cat_4            D  \n1        Average          3.0  Cat_4            A  \n2            Low          1.0  Cat_6            B  \n3           High          2.0  Cat_6            B  \n4           High          6.0  Cat_6            A  ",
      "text/html": "<div>\n<style scoped>\n    .dataframe tbody tr th:only-of-type {\n        vertical-align: middle;\n    }\n\n    .dataframe tbody tr th {\n        vertical-align: top;\n    }\n\n    .dataframe thead th {\n        text-align: right;\n    }\n</style>\n<table border=\"1\" class=\"dataframe\">\n  <thead>\n    <tr style=\"text-align: right;\">\n      <th></th>\n      <th>ID</th>\n      <th>Gender</th>\n      <th>Ever_Married</th>\n      <th>Age</th>\n      <th>Graduated</th>\n      <th>Profession</th>\n      <th>Work_Experience</th>\n      <th>Spending_Score</th>\n      <th>Family_Size</th>\n      <th>Var_1</th>\n      <th>Segmentation</th>\n    </tr>\n  </thead>\n  <tbody>\n    <tr>\n      <th>0</th>\n      <td>462809</td>\n      <td>Male</td>\n      <td>No</td>\n      <td>22</td>\n      <td>No</td>\n      <td>Healthcare</td>\n      <td>1.0</td>\n      <td>Low</td>\n      <td>4.0</td>\n      <td>Cat_4</td>\n      <td>D</td>\n    </tr>\n    <tr>\n      <th>1</th>\n      <td>462643</td>\n      <td>Female</td>\n      <td>Yes</td>\n      <td>38</td>\n      <td>Yes</td>\n      <td>Engineer</td>\n      <td>NaN</td>\n      <td>Average</td>\n      <td>3.0</td>\n      <td>Cat_4</td>\n      <td>A</td>\n    </tr>\n    <tr>\n      <th>2</th>\n      <td>466315</td>\n      <td>Female</td>\n      <td>Yes</td>\n      <td>67</td>\n      <td>Yes</td>\n      <td>Engineer</td>\n      <td>1.0</td>\n      <td>Low</td>\n      <td>1.0</td>\n      <td>Cat_6</td>\n      <td>B</td>\n    </tr>\n    <tr>\n      <th>3</th>\n      <td>461735</td>\n      <td>Male</td>\n      <td>Yes</td>\n      <td>67</td>\n      <td>Yes</td>\n      <td>Lawyer</td>\n      <td>0.0</td>\n      <td>High</td>\n      <td>2.0</td>\n      <td>Cat_6</td>\n      <td>B</td>\n    </tr>\n    <tr>\n      <th>4</th>\n      <td>462669</td>\n      <td>Female</td>\n      <td>Yes</td>\n      <td>40</td>\n      <td>Yes</td>\n      <td>Entertainment</td>\n      <td>NaN</td>\n      <td>High</td>\n      <td>6.0</td>\n      <td>Cat_6</td>\n      <td>A</td>\n    </tr>\n  </tbody>\n</table>\n</div>"
     },
     "execution_count": 4,
     "metadata": {},
     "output_type": "execute_result"
    }
   ],
   "source": [
    "#viewing the data frame\n",
    "customer_data.head(5)"
   ],
   "metadata": {
    "collapsed": false,
    "ExecuteTime": {
     "end_time": "2023-06-05T08:17:06.144961100Z",
     "start_time": "2023-06-05T08:17:06.136820300Z"
    }
   }
  },
  {
   "cell_type": "code",
   "execution_count": 5,
   "outputs": [
    {
     "name": "stdout",
     "output_type": "stream",
     "text": [
      "<class 'pandas.core.frame.DataFrame'>\n",
      "RangeIndex: 8068 entries, 0 to 8067\n",
      "Data columns (total 11 columns):\n",
      " #   Column           Non-Null Count  Dtype  \n",
      "---  ------           --------------  -----  \n",
      " 0   ID               8068 non-null   int64  \n",
      " 1   Gender           8068 non-null   object \n",
      " 2   Ever_Married     7928 non-null   object \n",
      " 3   Age              8068 non-null   int64  \n",
      " 4   Graduated        7990 non-null   object \n",
      " 5   Profession       7944 non-null   object \n",
      " 6   Work_Experience  7239 non-null   float64\n",
      " 7   Spending_Score   8068 non-null   object \n",
      " 8   Family_Size      7733 non-null   float64\n",
      " 9   Var_1            7992 non-null   object \n",
      " 10  Segmentation     8068 non-null   object \n",
      "dtypes: float64(2), int64(2), object(7)\n",
      "memory usage: 693.5+ KB\n"
     ]
    }
   ],
   "source": [
    "# showing the general structure of dataframe\n",
    "customer_data.info()"
   ],
   "metadata": {
    "collapsed": false,
    "ExecuteTime": {
     "end_time": "2023-06-05T08:17:06.966644800Z",
     "start_time": "2023-06-05T08:17:06.960496900Z"
    }
   }
  },
  {
   "cell_type": "code",
   "execution_count": 6,
   "outputs": [
    {
     "name": "stdout",
     "output_type": "stream",
     "text": [
      "Number of Rows: 8068\n",
      "Number of Columns: 11\n"
     ]
    }
   ],
   "source": [
    "# show the dimensions\n",
    "print(f'Number of Rows: {customer_data.shape[0]}')\n",
    "print(f'Number of Columns: {customer_data.shape[1]}')"
   ],
   "metadata": {
    "collapsed": false,
    "ExecuteTime": {
     "end_time": "2023-06-05T08:17:07.409304600Z",
     "start_time": "2023-06-05T08:17:07.404639800Z"
    }
   }
  },
  {
   "cell_type": "code",
   "execution_count": 7,
   "outputs": [
    {
     "data": {
      "text/plain": "Index(['ID', 'Gender', 'Ever_Married', 'Age', 'Graduated', 'Profession',\n       'Work_Experience', 'Spending_Score', 'Family_Size', 'Var_1',\n       'Segmentation'],\n      dtype='object')"
     },
     "execution_count": 7,
     "metadata": {},
     "output_type": "execute_result"
    }
   ],
   "source": [
    "customer_data.columns"
   ],
   "metadata": {
    "collapsed": false,
    "ExecuteTime": {
     "end_time": "2023-06-05T08:17:07.877655400Z",
     "start_time": "2023-06-05T08:17:07.873643600Z"
    }
   }
  },
  {
   "cell_type": "markdown",
   "source": [
    "### Data Cleaning"
   ],
   "metadata": {
    "collapsed": false
   }
  },
  {
   "cell_type": "code",
   "execution_count": 8,
   "outputs": [
    {
     "data": {
      "text/plain": "ID                   0\nGender               0\nEver_Married       140\nAge                  0\nGraduated           78\nProfession         124\nWork_Experience    829\nSpending_Score       0\nFamily_Size        335\nVar_1               76\nSegmentation         0\ndtype: int64"
     },
     "execution_count": 8,
     "metadata": {},
     "output_type": "execute_result"
    }
   ],
   "source": [
    "# Seeing if there exist null values in the columns and listing if there are null values\n",
    "customer_data.isnull().sum()"
   ],
   "metadata": {
    "collapsed": false,
    "ExecuteTime": {
     "end_time": "2023-06-05T08:17:09.018851700Z",
     "start_time": "2023-06-05T08:17:09.015341600Z"
    }
   }
  },
  {
   "cell_type": "code",
   "execution_count": 9,
   "outputs": [],
   "source": [
    "# The dataset is quite small, so we try to impute the missing values instead of removing them\n",
    "# Since the age at which person get married are rather similar in general, context. We should impute ever_married with mode after grouping with age\n",
    "mode_of_ever_married_by_age = customer_data.groupby(\"Age\")['Ever_Married'].apply(lambda x:x.mode().iloc[0])"
   ],
   "metadata": {
    "collapsed": false,
    "ExecuteTime": {
     "end_time": "2023-06-05T08:17:09.517076200Z",
     "start_time": "2023-06-05T08:17:09.510820300Z"
    }
   }
  },
  {
   "cell_type": "code",
   "execution_count": 10,
   "outputs": [],
   "source": [
    "# replace the missing ever_married data by the mode\n",
    "customer_data['Ever_Married'] = customer_data['Ever_Married'].fillna(customer_data['Age'].map(mode_of_ever_married_by_age))"
   ],
   "metadata": {
    "collapsed": false,
    "ExecuteTime": {
     "end_time": "2023-06-05T08:17:10.033743600Z",
     "start_time": "2023-06-05T08:17:10.029716400Z"
    }
   }
  },
  {
   "cell_type": "code",
   "execution_count": 11,
   "outputs": [
    {
     "name": "stdout",
     "output_type": "stream",
     "text": [
      "0.23730934258442968\n"
     ]
    }
   ],
   "source": [
    "# imputing graduated\n",
    "# checking correlation between age and graduated\n",
    "correlation_between_age_graduated = customer_data['Age'].corr( customer_data['Graduated'].map({'Yes': 1, 'No': 0}))\n",
    "print(f'{correlation_between_age_graduated}')"
   ],
   "metadata": {
    "collapsed": false,
    "ExecuteTime": {
     "end_time": "2023-06-05T08:17:10.449696900Z",
     "start_time": "2023-06-05T08:17:10.444092100Z"
    }
   }
  },
  {
   "cell_type": "code",
   "execution_count": 12,
   "outputs": [],
   "source": [
    "# since the correlation is small, there only weak correlation between age and graduation.\n",
    "# so, we will just impute graduated with its mode\n",
    "customer_data['Graduated'].fillna(customer_data['Graduated'].mode()[0], inplace=True)"
   ],
   "metadata": {
    "collapsed": false,
    "ExecuteTime": {
     "end_time": "2023-06-05T08:17:11.024871600Z",
     "start_time": "2023-06-05T08:17:11.021634700Z"
    }
   }
  },
  {
   "cell_type": "code",
   "execution_count": 13,
   "outputs": [],
   "source": [
    "# imputing profession\n",
    "customer_data['Profession'].fillna(customer_data['Profession'].mode()[0], inplace=True)"
   ],
   "metadata": {
    "collapsed": false,
    "ExecuteTime": {
     "end_time": "2023-06-05T08:17:11.681903500Z",
     "start_time": "2023-06-05T08:17:11.669723Z"
    }
   }
  },
  {
   "cell_type": "code",
   "execution_count": 14,
   "outputs": [],
   "source": [
    "# imputing work_experience by median\n",
    "customer_data['Work_Experience'].fillna(customer_data['Work_Experience'].median(), inplace =True)"
   ],
   "metadata": {
    "collapsed": false,
    "ExecuteTime": {
     "end_time": "2023-06-05T08:17:12.135602500Z",
     "start_time": "2023-06-05T08:17:12.132063600Z"
    }
   }
  },
  {
   "cell_type": "code",
   "execution_count": 15,
   "outputs": [],
   "source": [
    "# imputing family size\n",
    "customer_data['Family_Size'].fillna(customer_data['Family_Size'].median(), inplace =True)"
   ],
   "metadata": {
    "collapsed": false,
    "ExecuteTime": {
     "end_time": "2023-06-05T08:17:12.857176900Z",
     "start_time": "2023-06-05T08:17:12.852147100Z"
    }
   }
  },
  {
   "cell_type": "code",
   "execution_count": 16,
   "outputs": [],
   "source": [
    "customer_data['Var_1'].fillna(customer_data['Var_1'].mode()[0], inplace =True)"
   ],
   "metadata": {
    "collapsed": false,
    "ExecuteTime": {
     "end_time": "2023-06-05T08:17:13.721283600Z",
     "start_time": "2023-06-05T08:17:13.718264300Z"
    }
   }
  },
  {
   "cell_type": "code",
   "execution_count": 17,
   "outputs": [
    {
     "data": {
      "text/plain": "ID                 0\nGender             0\nEver_Married       0\nAge                0\nGraduated          0\nProfession         0\nWork_Experience    0\nSpending_Score     0\nFamily_Size        0\nVar_1              0\nSegmentation       0\ndtype: int64"
     },
     "execution_count": 17,
     "metadata": {},
     "output_type": "execute_result"
    }
   ],
   "source": [
    "# From this it can be seen all the data has been imputed, and there dont exist any null values\n",
    "customer_data.isnull().sum()"
   ],
   "metadata": {
    "collapsed": false,
    "ExecuteTime": {
     "end_time": "2023-06-05T08:17:14.276570100Z",
     "start_time": "2023-06-05T08:17:14.272807700Z"
    }
   }
  },
  {
   "cell_type": "markdown",
   "source": [
    "### Data Exploration"
   ],
   "metadata": {
    "collapsed": false
   }
  },
  {
   "cell_type": "code",
   "execution_count": 18,
   "outputs": [],
   "source": [
    "import seaborn as sns"
   ],
   "metadata": {
    "collapsed": false,
    "ExecuteTime": {
     "end_time": "2023-06-05T08:17:21.972600400Z",
     "start_time": "2023-06-05T08:17:21.967626100Z"
    }
   }
  },
  {
   "cell_type": "code",
   "execution_count": 25,
   "outputs": [
    {
     "data": {
      "text/plain": "<Axes: xlabel='Age', ylabel='Count'>"
     },
     "execution_count": 25,
     "metadata": {},
     "output_type": "execute_result"
    },
    {
     "data": {
      "text/plain": "<Figure size 640x480 with 1 Axes>",
      "image/png": "[encoded data removed]"
     },
     "metadata": {},
     "output_type": "display_data"
    }
   ],
   "source": [
    "sns.histplot(customer_data[\"Age\"], bins=15)"
   ],
   "metadata": {
    "collapsed": false,
    "ExecuteTime": {
     "end_time": "2023-06-05T08:18:17.771805200Z",
     "start_time": "2023-06-05T08:18:17.665467Z"
    }
   }
  },
  {
   "cell_type": "code",
   "execution_count": 26,
   "outputs": [
    {
     "data": {
      "text/plain": "count    8068.000000\nmean       43.466906\nstd        16.711696\nmin        18.000000\n25%        30.000000\n50%        40.000000\n75%        53.000000\nmax        89.000000\nName: Age, dtype: float64"
     },
     "execution_count": 26,
     "metadata": {},
     "output_type": "execute_result"
    }
   ],
   "source": [
    "customer_data[\"Age\"].describe()"
   ],
   "metadata": {
    "collapsed": false,
    "ExecuteTime": {
     "end_time": "2023-06-05T08:19:06.369900200Z",
     "start_time": "2023-06-05T08:19:06.366901Z"
    }
   }
  },
  {
   "cell_type": "markdown",
   "source": [
    "The distribution of Age seems to be right skewed for the dataset for the following reasons:\n",
    "* The mean (43.47) is greater than the median (40). In a right-skewed distribution, the mean is typically larger than the median because the presence of higher values on the right side of the distribution pulls the mean towards the right.\n",
    "* The third quartile (75th percentile) is 53, while the maximum age is 89. This indicates that there is a longer tail on the right side of the distribution, with a few relatively higher values.\n",
    "\n",
    "This indicates that most of the customers are younger.\n"
   ],
   "metadata": {
    "collapsed": false
   }
  },
  {
   "cell_type": "code",
   "execution_count": 43,
   "outputs": [
    {
     "data": {
      "text/plain": "<matplotlib.legend.Legend at 0x276852a3510>"
     },
     "execution_count": 43,
     "metadata": {},
     "output_type": "execute_result"
    },
    {
     "data": {
      "text/plain": "<Figure size 640x480 with 1 Axes>",
      "image/png": "[encoded data removed]"
     },
     "metadata": {},
     "output_type": "display_data"
    }
   ],
   "source": [
    "# Which gender shops the most?\n",
    "plt.figure()\n",
    "ax = sns.countplot(x='Gender', hue=\"Ever_Married\",data=customer_data)\n",
    "\n",
    "# add count numbers on top of each bar\n",
    "for p in ax.patches:\n",
    "    ax.annotate(format(int(p.get_height())), (p.get_x() + p.get_width() / 2., p.get_height()), ha = 'center', va = 'center', xytext = (0, 5), textcoords = 'offset points')\n",
    "\n",
    "plt.ylabel(\"Gender\")\n",
    "plt.legend(title=\"Ever Married\")"
   ],
   "metadata": {
    "collapsed": false,
    "ExecuteTime": {
     "end_time": "2023-06-05T08:39:44.132282300Z",
     "start_time": "2023-06-05T08:39:44.059640100Z"
    }
   }
  },
  {
   "cell_type": "markdown",
   "source": [
    "This shows that in this dataset, the customers are mostly male. However, it can be seen that the number of male and female customers which are in similar ranges, but number of married males is significantly higher than number of married female."
   ],
   "metadata": {
    "collapsed": false
   }
  },
  {
   "cell_type": "code",
   "execution_count": null,
   "outputs": [],
   "source": [],
   "metadata": {
    "collapsed": false
   }
  }
 ],
 "metadata": {
  "kernelspec": {
   "display_name": "Python 3",
   "language": "python",
   "name": "python3"
  },
  "language_info": {
   "codemirror_mode": {
    "name": "ipython",
    "version": 2
   },
   "file_extension": ".py",
   "mimetype": "text/x-python",
   "name": "python",
   "nbconvert_exporter": "python",
   "pygments_lexer": "ipython2",
   "version": "2.7.6"
  }
 },
 "nbformat": 4,
 "nbformat_minor": 0
}
